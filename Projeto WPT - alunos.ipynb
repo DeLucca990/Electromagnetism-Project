{
 "cells": [
  {
   "cell_type": "markdown",
   "metadata": {},
   "source": [
    "# **Insper - Eletromagnetismo e Ondulatória** #\n",
    "\n",
    "\n",
    "**Projeto WPT**"
   ]
  },
  {
   "cell_type": "markdown",
   "metadata": {},
   "source": [
    "<p style='text-align: justify;'>Uma das tecnologias mais utilizadas para a transferência de energia pelo ar – WPT (Wireless Power Transfer) – consiste no chamado “acoplamento ressonante por campos próximos – near field ressonant coupling”. Como há duas bobinas (uma transmissora e outra receptora), o fenômeno da transmissão de energia pelo ar se assemelha bastante ao funcionamento de um transformador convencional. Exatamente por isso, e para nossa sorte, é possível utilizar o modelo elétrico do transformador para simular um circuito WPT.</p>\n",
    "<br>\n",
    "<br>\n",
    "<div>  \n",
    "<img src=\"attachment:image.png\" align=\"center\" width=\"300\"/>      \n",
    "</div>\n",
    "<br>\n",
    "\n",
    "<p style='text-align: justify;'>Uma importante diferença entre um transformador com núcleo de ferro e um outro sem esse núcleo (como no caso da transmissão pelo ar) é que a intensidade do campo magnético produzido pela bobina primária, por exemplo, não será igual à intensidade do campo magnético no interior da bobina secundária, hipótese que usamos para construir o modelo do transformador. Contudo, a engenharia é conhecida exatamente pela engenhosidade das soluções encontradas, não é mesmo?\n",
    "Em um transformador convencional, a indutância mútua é calculada usando $M=\\sqrt {L_1\\cdot L_2}$. A definição de indutância mútua consiste na razão entre o fluxo magnético total em uma bobina e a corrente na outra. Ora, se apenas parte do fluxo magnético produzido por uma das bobinas chega à outra, nada mais simples do que considerar um “fator de acoplamento k”, de tal modo que $M=k\\cdot \\sqrt {L_1\\cdot L_2}$. Esse fator de acoplamento pode variar entre 0 e 1, sendo 1 apenas quando há um núcleo de ferro entre as bobinas.</p>\n",
    "\n",
    "Mesmo sem sabermos a relação entre $k$ e a distância entre as bobinas, sabemos, intuitivamente, que quanto maior a distância, menor será o $k$. Considere o modelo do transformador abaixo para responder aos itens que seguem.\n",
    "<br>\n",
    "<br>\n",
    "\n",
    "<div>\n",
    "<img src=\"attachment:image-3.png\" align=\"center\" width=\"500\"/>\n",
    "</div>\n",
    "\n",
    "\n",
    "\n"
   ]
  },
  {
   "cell_type": "markdown",
   "metadata": {},
   "source": [
    "a) Importe os módulos necessários"
   ]
  },
  {
   "cell_type": "code",
   "execution_count": 89,
   "metadata": {},
   "outputs": [],
   "source": [
    "#Vamos importar os módulos que precisamos\n",
    "from math import *\n",
    "from cmath import *\n",
    "from numpy import linalg\n",
    "import numpy as np\n",
    "import matplotlib.pyplot as plt"
   ]
  },
  {
   "cell_type": "markdown",
   "metadata": {},
   "source": [
    "b) Declare as variáveis do transformador: $R_1=0,5\\Omega$, $R_2=0,5\\Omega$, $L_1=300 mH$, $L_2=300 mH$, $freq=60Hz$ e $k=0,5$"
   ]
  },
  {
   "cell_type": "code",
   "execution_count": 90,
   "metadata": {},
   "outputs": [],
   "source": [
    "#implemente seu código aqui\n",
    "R1 = R2 = 0.5\n",
    "L1 = L2 = 300e-6\n",
    "C1 = C2 = 0.1e-6\n",
    "RC = 400\n",
    "f = 60\n",
    "k = 0.5"
   ]
  },
  {
   "cell_type": "markdown",
   "metadata": {},
   "source": [
    "c) Calcule na célula abaixo:\n",
    "\n",
    "- Frequência angular\n",
    "- Indutância Mútua\n",
    "- Reatâncias indutivas de $L_1$ e $L_2$\n",
    "- Reatância indutiva mútua\n",
    "\n",
    "Obsrvação: o número complexo $j=\\sqrt{-1}$ é nativo da linguagem Python. Para escrever $j$, digite \"1j\"\n"
   ]
  },
  {
   "cell_type": "code",
   "execution_count": 91,
   "metadata": {},
   "outputs": [
    {
     "name": "stdout",
     "output_type": "stream",
     "text": [
      "W =  376.99111843077515\n",
      "M =  (0.00015+0j)\n",
      "XL1 =  0.11309733552923254j\n",
      "XL2 =  0.11309733552923254j\n",
      "XC1 =  -26525.82384864923j\n",
      "XC2 =  -26525.82384864923j\n",
      "XM =  0.05654866776461627j\n",
      "RC_LINHA =  (399.90906240465637-6.030486588261361j)\n"
     ]
    }
   ],
   "source": [
    "#implemente seu código aqui\n",
    "w = 2*pi*f\n",
    "M = k*sqrt(L1*L2)\n",
    "\n",
    "XL1 = w * L1 * 1j\n",
    "XL2 = w * L2 * 1j\n",
    "\n",
    "XC1 = 1/(w * C1 * 1j)\n",
    "XC2 = 1/(w * C2 * 1j)\n",
    "\n",
    "XM = w * M * 1j\n",
    "\n",
    "RC_LINHA = (RC * XC1)/(RC + XC1)\n",
    "\n",
    "print(\"W = \", w)\n",
    "print(\"M = \", M)\n",
    "print(\"XL1 = \", XL1)\n",
    "print(\"XL2 = \", XL2)\n",
    "print(\"XC1 = \", XC1)\n",
    "print(\"XC2 = \", XC2)\n",
    "print(\"XM = \", XM)\n",
    "print(\"RC_LINHA = \", RC_LINHA)"
   ]
  },
  {
   "cell_type": "markdown",
   "metadata": {},
   "source": [
    "d) Observe mais uma vez a função que criamos para calcular as correntes $i_1$ e $i_2$. Ela é a mesma que usamos na aula sobre transformadores e também no Lab2."
   ]
  },
  {
   "cell_type": "code",
   "execution_count": 92,
   "metadata": {},
   "outputs": [],
   "source": [
    "def CalcularTransformador(v1, RC_LINHA):\n",
    "    Z=np.array([[R1+XL1+XC1, -XM],[-XM, XL2+R2+RC_LINHA]])\n",
    "    V=np.array([v1,0])\n",
    "    I=np.dot(linalg.inv(Z),V)\n",
    "    return I[0], I[1]"
   ]
  },
  {
   "cell_type": "markdown",
   "metadata": {},
   "source": [
    "e) Agora calcule as correntes $i_1$, $i_2$ e $V_2$ para:\n",
    "\n",
    "- $V_1(t)=50\\cdot cos(\\omega \\cdot t)\\space [V]$\n",
    "- $Rc=10\\space \\Omega$\n"
   ]
  },
  {
   "cell_type": "code",
   "execution_count": 93,
   "metadata": {},
   "outputs": [
    {
     "name": "stdout",
     "output_type": "stream",
     "text": [
      "V2 =  (-0.00010645955116095282+3.4074252620059887e-08j)\n",
      "I2 =  (-2.6615016247144254e-07-3.928244894430442e-09j)\n"
     ]
    }
   ],
   "source": [
    "#implemente seu código aqui\n",
    "V1 = 50\n",
    "I1, I2 = CalcularTransformador(V1, RC_LINHA)\n",
    "V2 = I2 * RC_LINHA\n",
    "print(\"V2 = \", V2)\n",
    "print(\"I2 = \", I2)"
   ]
  },
  {
   "cell_type": "markdown",
   "metadata": {},
   "source": [
    "f) Agora faça uma estrutura de loop para variar $k$ entre $0$ e $1$, calculando $V_2$ para cada $k$. Plote um gráfico de $V_2\\space x \\space k$. Qual a sua conclusão sobre o gráfico?"
   ]
  },
  {
   "cell_type": "code",
   "execution_count": 98,
   "metadata": {},
   "outputs": [
    {
     "name": "stderr",
     "output_type": "stream",
     "text": [
      "c:\\Users\\Pedro De Lucca\\AppData\\Local\\Programs\\Python\\Python310\\lib\\site-packages\\matplotlib\\cbook\\__init__.py:1335: ComplexWarning: Casting complex values to real discards the imaginary part\n",
      "  return np.asarray(x, float)\n"
     ]
    },
    {
     "data": {
      "image/png": "[encoded data removed]",
      "text/plain": [
       "<Figure size 640x480 with 1 Axes>"
      ]
     },
     "metadata": {},
     "output_type": "display_data"
    }
   ],
   "source": [
    "#implemente seu código aqui\n",
    "k_list = np.linspace(0, 1, 100)\n",
    "\n",
    "V2_list = []\n",
    "for k in k_list:\n",
    "    M = k*sqrt(L1*L2)\n",
    "    XM = k*sqrt(XL1*XL2)\n",
    "    I1, I2 = CalcularTransformador(V1, RC_LINHA)\n",
    "    V2 = I2 * RC_LINHA\n",
    "    V2_list.append(V2)\n",
    "plt.plot(V2_list, k_list)\n",
    "plt.title(\"V2 x K\")\n",
    "plt.xlabel(\"V2\")\n",
    "plt.ylabel(\"K\")\n",
    "plt.show()"
   ]
  }
 ],
 "metadata": {
  "kernelspec": {
   "display_name": "Python 3 (ipykernel)",
   "language": "python",
   "name": "python3"
  },
  "language_info": {
   "codemirror_mode": {
    "name": "ipython",
    "version": 3
   },
   "file_extension": ".py",
   "mimetype": "text/x-python",
   "name": "python",
   "nbconvert_exporter": "python",
   "pygments_lexer": "ipython3",
   "version": "3.10.7"
  }
 },
 "nbformat": 4,
 "nbformat_minor": 2
}
